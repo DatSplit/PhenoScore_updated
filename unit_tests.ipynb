{
 "cells": [
  {
   "cell_type": "code",
   "execution_count": 1,
   "metadata": {},
   "outputs": [
    {
     "name": "stderr",
     "output_type": "stream",
     "text": [
      "c:\\Users\\Niels Teunissen\\.conda\\envs\\PhenoScore\\lib\\site-packages\\tqdm\\auto.py:22: TqdmWarning: IProgress not found. Please update jupyter and ipywidgets. See https://ipywidgets.readthedocs.io/en/stable/user_install.html\n",
      "  from .autonotebook import tqdm as notebook_tqdm\n",
      "2024-07-04 10:16:21,581 - phenopy - INFO - checking if config file exists: C:\\Users\\Niels Teunissen\\.phenopy\n",
      "2024-07-04 10:16:21,582 - phenopy - INFO - phenopy 0.5.2\n",
      "2024-07-04 10:16:21,583 - phenopy - INFO - Using configuration file: C:\\Users\\Niels Teunissen\\.phenopy\\phenopy.ini\n"
     ]
    },
    {
     "name": "stdout",
     "output_type": "stream",
     "text": [
      "Pretrained weights already exist, skipping download.\n",
      "=> loading pth from C:\\Users\\Niels Teunissen\\Desktop\\INFOMRIAI1 - PhenoScore\\Framework\\phenoscore\\facial_feature_extraction\\QMagFace\\_models\\magface_models\\magface_epoch_00025.pth ...\n"
     ]
    },
    {
     "name": "stderr",
     "output_type": "stream",
     "text": [
      "."
     ]
    },
    {
     "name": "stdout",
     "output_type": "stream",
     "text": [
      "Pretrained weights already exist, skipping download.\n",
      "=> loading pth from C:\\Users\\Niels Teunissen\\Desktop\\INFOMRIAI1 - PhenoScore\\Framework\\phenoscore\\facial_feature_extraction\\QMagFace\\_models\\magface_models\\magface_epoch_00025.pth ...\n"
     ]
    }
   ],
   "source": [
    "import sys\n",
    "import unittest\n",
    "import importlib.util\n",
    "\n",
    "sys.path.append('phenoscore/tests')\n",
    "module_names = ['test_facial_extraction', 'test_hpo_sim', 'test_lime', 'test_permutation_test','test_svm']\n",
    "imported_modules = []\n",
    "\n",
    "for name in module_names:\n",
    "    spec = importlib.util.spec_from_file_location(name, f\"phenoscore/tests/{name}.py\")\n",
    "    module = importlib.util.module_from_spec(spec)\n",
    "    spec.loader.exec_module(module)\n",
    "    imported_modules.append(module)\n",
    "\n",
    "loader = unittest.TestLoader()\n",
    "suite = unittest.TestSuite()\n",
    "\n",
    "for module in imported_modules:\n",
    "    suite.addTests(loader.loadTestsFromModule(module))\n",
    "\n",
    "runner = unittest.TextTestRunner()\n",
    "runner.run(suite)"
   ]
  }
 ],
 "metadata": {
  "kernelspec": {
   "display_name": "PhenoScore",
   "language": "python",
   "name": "python3"
  },
  "language_info": {
   "codemirror_mode": {
    "name": "ipython",
    "version": 3
   },
   "file_extension": ".py",
   "mimetype": "text/x-python",
   "name": "python",
   "nbconvert_exporter": "python",
   "pygments_lexer": "ipython3",
   "version": "3.9.19"
  }
 },
 "nbformat": 4,
 "nbformat_minor": 2
}
